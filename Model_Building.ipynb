{
 "cells": [
  {
   "cell_type": "code",
   "execution_count": 2,
   "metadata": {},
   "outputs": [],
   "source": [
    "import numpy as np\n",
    "import pandas as pd\n",
    "import seaborn as sns\n",
    "import matplotlib.pyplot as plt\n",
    "import matplotlib.pylab as pylab\n",
    "from sklearn.preprocessing import LabelEncoder\n",
    "from sklearn.model_selection import train_test_split\n",
    "\n",
    "import warnings\n",
    "warnings.filterwarnings('ignore')"
   ]
  },
  {
   "cell_type": "code",
   "execution_count": 3,
   "metadata": {},
   "outputs": [
    {
     "data": {
      "text/html": [
       "<div>\n",
       "<style scoped>\n",
       "    .dataframe tbody tr th:only-of-type {\n",
       "        vertical-align: middle;\n",
       "    }\n",
       "\n",
       "    .dataframe tbody tr th {\n",
       "        vertical-align: top;\n",
       "    }\n",
       "\n",
       "    .dataframe thead th {\n",
       "        text-align: right;\n",
       "    }\n",
       "</style>\n",
       "<table border=\"1\" class=\"dataframe\">\n",
       "  <thead>\n",
       "    <tr style=\"text-align: right;\">\n",
       "      <th></th>\n",
       "      <th>City</th>\n",
       "      <th>Title</th>\n",
       "      <th>Bedroom</th>\n",
       "      <th>Property Name</th>\n",
       "      <th>Region</th>\n",
       "      <th>Price</th>\n",
       "      <th>Rate per Sqft</th>\n",
       "      <th>Carpet Area</th>\n",
       "      <th>Floor</th>\n",
       "      <th>Transaction Type</th>\n",
       "      <th>Bathroom</th>\n",
       "      <th>Description</th>\n",
       "    </tr>\n",
       "  </thead>\n",
       "  <tbody>\n",
       "    <tr>\n",
       "      <th>0</th>\n",
       "      <td>Mumbai</td>\n",
       "      <td>3 BHK Apartment for Sale in Kanakia Silicon Va...</td>\n",
       "      <td>3.0</td>\n",
       "      <td>Kanakia Silicon Valley</td>\n",
       "      <td>Powai Mumbai</td>\n",
       "      <td>355.00</td>\n",
       "      <td>41375.29</td>\n",
       "      <td>858.000000</td>\n",
       "      <td>NaN</td>\n",
       "      <td>New Property</td>\n",
       "      <td>3</td>\n",
       "      <td>NaN</td>\n",
       "    </tr>\n",
       "    <tr>\n",
       "      <th>1</th>\n",
       "      <td>Mumbai</td>\n",
       "      <td>1 BHK Apartment for Sale in Royal Pristo, Mala...</td>\n",
       "      <td>1.0</td>\n",
       "      <td>Royal Pristo</td>\n",
       "      <td>Malad East Mumbai</td>\n",
       "      <td>245.23</td>\n",
       "      <td>75922.03</td>\n",
       "      <td>323.000000</td>\n",
       "      <td>NaN</td>\n",
       "      <td>New Property</td>\n",
       "      <td>2</td>\n",
       "      <td>NaN</td>\n",
       "    </tr>\n",
       "    <tr>\n",
       "      <th>2</th>\n",
       "      <td>Mumbai</td>\n",
       "      <td>2 BHK Apartment for Sale in Leo Tower, Andheri...</td>\n",
       "      <td>2.0</td>\n",
       "      <td>Leo Tower</td>\n",
       "      <td>Andheri West Mumbai</td>\n",
       "      <td>253.00</td>\n",
       "      <td>39531.25</td>\n",
       "      <td>640.000000</td>\n",
       "      <td>NaN</td>\n",
       "      <td>New Property</td>\n",
       "      <td>2</td>\n",
       "      <td>NaN</td>\n",
       "    </tr>\n",
       "    <tr>\n",
       "      <th>3</th>\n",
       "      <td>Mumbai</td>\n",
       "      <td>2 BHK Apartment for Sale in Sheth Montana, Mul...</td>\n",
       "      <td>2.0</td>\n",
       "      <td>Sheth Montana</td>\n",
       "      <td>Mulund West Mumbai</td>\n",
       "      <td>258.00</td>\n",
       "      <td>28603.10</td>\n",
       "      <td>902.000000</td>\n",
       "      <td>NaN</td>\n",
       "      <td>New Property</td>\n",
       "      <td>3</td>\n",
       "      <td>NaN</td>\n",
       "    </tr>\n",
       "    <tr>\n",
       "      <th>4</th>\n",
       "      <td>Mumbai</td>\n",
       "      <td>2 BHK Apartment for Sale in RNA NG Grand Empir...</td>\n",
       "      <td>2.0</td>\n",
       "      <td>RNA NG Grand Empire</td>\n",
       "      <td>Navghar Road Mumbai</td>\n",
       "      <td>111.00</td>\n",
       "      <td>19137.93</td>\n",
       "      <td>580.000000</td>\n",
       "      <td>NaN</td>\n",
       "      <td>New Property</td>\n",
       "      <td>2</td>\n",
       "      <td>NaN</td>\n",
       "    </tr>\n",
       "    <tr>\n",
       "      <th>...</th>\n",
       "      <td>...</td>\n",
       "      <td>...</td>\n",
       "      <td>...</td>\n",
       "      <td>...</td>\n",
       "      <td>...</td>\n",
       "      <td>...</td>\n",
       "      <td>...</td>\n",
       "      <td>...</td>\n",
       "      <td>...</td>\n",
       "      <td>...</td>\n",
       "      <td>...</td>\n",
       "      <td>...</td>\n",
       "    </tr>\n",
       "    <tr>\n",
       "      <th>8759</th>\n",
       "      <td>Kolkata</td>\n",
       "      <td>2 BHK Builder Floor for Sale in Bally Kolkata</td>\n",
       "      <td>2.0</td>\n",
       "      <td>NaN</td>\n",
       "      <td>Bally Kolkata</td>\n",
       "      <td>245.23</td>\n",
       "      <td>28681.66</td>\n",
       "      <td>855.000000</td>\n",
       "      <td>3 out of 4</td>\n",
       "      <td>Resale</td>\n",
       "      <td>2</td>\n",
       "      <td>NaN</td>\n",
       "    </tr>\n",
       "    <tr>\n",
       "      <th>8760</th>\n",
       "      <td>Kolkata</td>\n",
       "      <td>2 BHK Apartment for Sale in Belghoria Expressw...</td>\n",
       "      <td>2.0</td>\n",
       "      <td>NaN</td>\n",
       "      <td>Belghoria Expressway Kolkata</td>\n",
       "      <td>245.23</td>\n",
       "      <td>18728.02</td>\n",
       "      <td>1309.418791</td>\n",
       "      <td>Ground out of 5</td>\n",
       "      <td>Resale</td>\n",
       "      <td>2</td>\n",
       "      <td>NaN</td>\n",
       "    </tr>\n",
       "    <tr>\n",
       "      <th>8761</th>\n",
       "      <td>Kolkata</td>\n",
       "      <td>2 BHK Apartment for Sale in PRIVATE HOUSE, Bel...</td>\n",
       "      <td>2.0</td>\n",
       "      <td>PRIVATE HOUSE</td>\n",
       "      <td>Belgachia Kolkata</td>\n",
       "      <td>245.23</td>\n",
       "      <td>28850.37</td>\n",
       "      <td>850.000000</td>\n",
       "      <td>3 out of 3</td>\n",
       "      <td>Resale</td>\n",
       "      <td>1</td>\n",
       "      <td>Parking 140 sq ft available</td>\n",
       "    </tr>\n",
       "    <tr>\n",
       "      <th>8762</th>\n",
       "      <td>Kolkata</td>\n",
       "      <td>2 BHK Apartment for Sale in Behala Kolkata</td>\n",
       "      <td>2.0</td>\n",
       "      <td>NaN</td>\n",
       "      <td>Behala Kolkata</td>\n",
       "      <td>245.23</td>\n",
       "      <td>22811.92</td>\n",
       "      <td>1075.000000</td>\n",
       "      <td>1 out of 4</td>\n",
       "      <td>Resale</td>\n",
       "      <td>2</td>\n",
       "      <td>Freehold Multistorey Apartment is located at 1...</td>\n",
       "    </tr>\n",
       "    <tr>\n",
       "      <th>8763</th>\n",
       "      <td>Kolkata</td>\n",
       "      <td>4 BHK House for Sale in Dhakuria Kolkata</td>\n",
       "      <td>4.0</td>\n",
       "      <td>NaN</td>\n",
       "      <td>Dhakuria Kolkata</td>\n",
       "      <td>130.00</td>\n",
       "      <td>6190.48</td>\n",
       "      <td>2100.000000</td>\n",
       "      <td>Ground out of 3</td>\n",
       "      <td>Resale</td>\n",
       "      <td>3</td>\n",
       "      <td>NaN</td>\n",
       "    </tr>\n",
       "  </tbody>\n",
       "</table>\n",
       "<p>8764 rows × 12 columns</p>\n",
       "</div>"
      ],
      "text/plain": [
       "         City                                              Title  Bedroom  \\\n",
       "0      Mumbai  3 BHK Apartment for Sale in Kanakia Silicon Va...      3.0   \n",
       "1      Mumbai  1 BHK Apartment for Sale in Royal Pristo, Mala...      1.0   \n",
       "2      Mumbai  2 BHK Apartment for Sale in Leo Tower, Andheri...      2.0   \n",
       "3      Mumbai  2 BHK Apartment for Sale in Sheth Montana, Mul...      2.0   \n",
       "4      Mumbai  2 BHK Apartment for Sale in RNA NG Grand Empir...      2.0   \n",
       "...       ...                                                ...      ...   \n",
       "8759  Kolkata      2 BHK Builder Floor for Sale in Bally Kolkata      2.0   \n",
       "8760  Kolkata  2 BHK Apartment for Sale in Belghoria Expressw...      2.0   \n",
       "8761  Kolkata  2 BHK Apartment for Sale in PRIVATE HOUSE, Bel...      2.0   \n",
       "8762  Kolkata         2 BHK Apartment for Sale in Behala Kolkata      2.0   \n",
       "8763  Kolkata           4 BHK House for Sale in Dhakuria Kolkata      4.0   \n",
       "\n",
       "               Property Name                        Region   Price  \\\n",
       "0     Kanakia Silicon Valley                  Powai Mumbai  355.00   \n",
       "1               Royal Pristo             Malad East Mumbai  245.23   \n",
       "2                  Leo Tower           Andheri West Mumbai  253.00   \n",
       "3              Sheth Montana            Mulund West Mumbai  258.00   \n",
       "4        RNA NG Grand Empire           Navghar Road Mumbai  111.00   \n",
       "...                      ...                           ...     ...   \n",
       "8759                     NaN                 Bally Kolkata  245.23   \n",
       "8760                     NaN  Belghoria Expressway Kolkata  245.23   \n",
       "8761           PRIVATE HOUSE             Belgachia Kolkata  245.23   \n",
       "8762                     NaN                Behala Kolkata  245.23   \n",
       "8763                     NaN              Dhakuria Kolkata  130.00   \n",
       "\n",
       "      Rate per Sqft  Carpet Area            Floor Transaction Type Bathroom  \\\n",
       "0          41375.29   858.000000              NaN     New Property        3   \n",
       "1          75922.03   323.000000              NaN     New Property        2   \n",
       "2          39531.25   640.000000              NaN     New Property        2   \n",
       "3          28603.10   902.000000              NaN     New Property        3   \n",
       "4          19137.93   580.000000              NaN     New Property        2   \n",
       "...             ...          ...              ...              ...      ...   \n",
       "8759       28681.66   855.000000       3 out of 4           Resale        2   \n",
       "8760       18728.02  1309.418791  Ground out of 5           Resale        2   \n",
       "8761       28850.37   850.000000       3 out of 3           Resale        1   \n",
       "8762       22811.92  1075.000000       1 out of 4           Resale        2   \n",
       "8763        6190.48  2100.000000  Ground out of 3           Resale        3   \n",
       "\n",
       "                                            Description  \n",
       "0                                                   NaN  \n",
       "1                                                   NaN  \n",
       "2                                                   NaN  \n",
       "3                                                   NaN  \n",
       "4                                                   NaN  \n",
       "...                                                 ...  \n",
       "8759                                                NaN  \n",
       "8760                                                NaN  \n",
       "8761                        Parking 140 sq ft available  \n",
       "8762  Freehold Multistorey Apartment is located at 1...  \n",
       "8763                                                NaN  \n",
       "\n",
       "[8764 rows x 12 columns]"
      ]
     },
     "execution_count": 3,
     "metadata": {},
     "output_type": "execute_result"
    }
   ],
   "source": [
    "data = pd.read_csv('magicbricks_cleaned_properties.csv')\n",
    "data"
   ]
  },
  {
   "cell_type": "code",
   "execution_count": 4,
   "metadata": {},
   "outputs": [
    {
     "data": {
      "text/plain": [
       "(8764, 12)"
      ]
     },
     "execution_count": 4,
     "metadata": {},
     "output_type": "execute_result"
    }
   ],
   "source": [
    "data.shape"
   ]
  },
  {
   "cell_type": "code",
   "execution_count": 82,
   "metadata": {},
   "outputs": [
    {
     "name": "stdout",
     "output_type": "stream",
     "text": [
      "<class 'pandas.core.frame.DataFrame'>\n",
      "RangeIndex: 8764 entries, 0 to 8763\n",
      "Data columns (total 12 columns):\n",
      " #   Column            Non-Null Count  Dtype  \n",
      "---  ------            --------------  -----  \n",
      " 0   City              8764 non-null   object \n",
      " 1   Title             8764 non-null   object \n",
      " 2   Bedroom           8764 non-null   float64\n",
      " 3   Property Name     4090 non-null   object \n",
      " 4   Region            8764 non-null   object \n",
      " 5   Price             8764 non-null   float64\n",
      " 6   Rate per Sqft     8764 non-null   float64\n",
      " 7   Carpet Area       8764 non-null   float64\n",
      " 8   Floor             7209 non-null   object \n",
      " 9   Transaction Type  8764 non-null   object \n",
      " 10  Bathroom          8764 non-null   object \n",
      " 11  Description       5661 non-null   object \n",
      "dtypes: float64(4), object(8)\n",
      "memory usage: 821.8+ KB\n"
     ]
    }
   ],
   "source": [
    "data.info()"
   ]
  },
  {
   "cell_type": "code",
   "execution_count": 5,
   "metadata": {},
   "outputs": [
    {
     "data": {
      "text/plain": [
       "City                   0\n",
       "Title                  0\n",
       "Bedroom                0\n",
       "Property Name       4674\n",
       "Region                 0\n",
       "Price                  0\n",
       "Rate per Sqft          0\n",
       "Carpet Area            0\n",
       "Floor               1555\n",
       "Transaction Type       0\n",
       "Bathroom               0\n",
       "Description         3103\n",
       "dtype: int64"
      ]
     },
     "execution_count": 5,
     "metadata": {},
     "output_type": "execute_result"
    }
   ],
   "source": [
    "data.isna().sum()"
   ]
  },
  {
   "cell_type": "code",
   "execution_count": 84,
   "metadata": {},
   "outputs": [
    {
     "data": {
      "text/html": [
       "<div>\n",
       "<style scoped>\n",
       "    .dataframe tbody tr th:only-of-type {\n",
       "        vertical-align: middle;\n",
       "    }\n",
       "\n",
       "    .dataframe tbody tr th {\n",
       "        vertical-align: top;\n",
       "    }\n",
       "\n",
       "    .dataframe thead th {\n",
       "        text-align: right;\n",
       "    }\n",
       "</style>\n",
       "<table border=\"1\" class=\"dataframe\">\n",
       "  <thead>\n",
       "    <tr style=\"text-align: right;\">\n",
       "      <th></th>\n",
       "      <th>Bedroom</th>\n",
       "      <th>Price</th>\n",
       "      <th>Rate per Sqft</th>\n",
       "      <th>Carpet Area</th>\n",
       "    </tr>\n",
       "  </thead>\n",
       "  <tbody>\n",
       "    <tr>\n",
       "      <th>count</th>\n",
       "      <td>8764.00</td>\n",
       "      <td>8764.00</td>\n",
       "      <td>8764.00</td>\n",
       "      <td>8764.00</td>\n",
       "    </tr>\n",
       "    <tr>\n",
       "      <th>mean</th>\n",
       "      <td>2.74</td>\n",
       "      <td>305.43</td>\n",
       "      <td>30855.82</td>\n",
       "      <td>1391.94</td>\n",
       "    </tr>\n",
       "    <tr>\n",
       "      <th>std</th>\n",
       "      <td>1.37</td>\n",
       "      <td>673.81</td>\n",
       "      <td>113617.38</td>\n",
       "      <td>4652.26</td>\n",
       "    </tr>\n",
       "    <tr>\n",
       "      <th>min</th>\n",
       "      <td>1.00</td>\n",
       "      <td>100.00</td>\n",
       "      <td>112.50</td>\n",
       "      <td>1.00</td>\n",
       "    </tr>\n",
       "    <tr>\n",
       "      <th>25%</th>\n",
       "      <td>2.00</td>\n",
       "      <td>188.00</td>\n",
       "      <td>14915.51</td>\n",
       "      <td>700.00</td>\n",
       "    </tr>\n",
       "    <tr>\n",
       "      <th>50%</th>\n",
       "      <td>3.00</td>\n",
       "      <td>245.23</td>\n",
       "      <td>24444.44</td>\n",
       "      <td>1049.50</td>\n",
       "    </tr>\n",
       "    <tr>\n",
       "      <th>75%</th>\n",
       "      <td>3.00</td>\n",
       "      <td>250.00</td>\n",
       "      <td>35032.60</td>\n",
       "      <td>1500.25</td>\n",
       "    </tr>\n",
       "    <tr>\n",
       "      <th>max</th>\n",
       "      <td>10.00</td>\n",
       "      <td>45000.00</td>\n",
       "      <td>10000000.00</td>\n",
       "      <td>400000.00</td>\n",
       "    </tr>\n",
       "  </tbody>\n",
       "</table>\n",
       "</div>"
      ],
      "text/plain": [
       "       Bedroom     Price  Rate per Sqft  Carpet Area\n",
       "count  8764.00   8764.00        8764.00      8764.00\n",
       "mean      2.74    305.43       30855.82      1391.94\n",
       "std       1.37    673.81      113617.38      4652.26\n",
       "min       1.00    100.00         112.50         1.00\n",
       "25%       2.00    188.00       14915.51       700.00\n",
       "50%       3.00    245.23       24444.44      1049.50\n",
       "75%       3.00    250.00       35032.60      1500.25\n",
       "max      10.00  45000.00    10000000.00    400000.00"
      ]
     },
     "execution_count": 84,
     "metadata": {},
     "output_type": "execute_result"
    }
   ],
   "source": [
    "data.describe().round(2)"
   ]
  },
  {
   "cell_type": "code",
   "execution_count": 6,
   "metadata": {},
   "outputs": [
    {
     "name": "stdout",
     "output_type": "stream",
     "text": [
      "Shape of data : (8764, 7)\n"
     ]
    }
   ],
   "source": [
    "data.drop(columns=['Title', 'Property Name', 'Floor','Bathroom', 'Description'], inplace =  True)\n",
    "print('Shape of data :', data.shape)\n",
    "df = data.copy()"
   ]
  },
  {
   "cell_type": "code",
   "execution_count": 7,
   "metadata": {},
   "outputs": [],
   "source": [
    "le = LabelEncoder()"
   ]
  },
  {
   "cell_type": "code",
   "execution_count": 8,
   "metadata": {},
   "outputs": [],
   "source": [
    "for column in data.describe(include='object').columns:\n",
    "    data[column] = le.fit_transform(data[column])"
   ]
  },
  {
   "cell_type": "code",
   "execution_count": 9,
   "metadata": {},
   "outputs": [
    {
     "data": {
      "text/html": [
       "<div>\n",
       "<style scoped>\n",
       "    .dataframe tbody tr th:only-of-type {\n",
       "        vertical-align: middle;\n",
       "    }\n",
       "\n",
       "    .dataframe tbody tr th {\n",
       "        vertical-align: top;\n",
       "    }\n",
       "\n",
       "    .dataframe thead th {\n",
       "        text-align: right;\n",
       "    }\n",
       "</style>\n",
       "<table border=\"1\" class=\"dataframe\">\n",
       "  <thead>\n",
       "    <tr style=\"text-align: right;\">\n",
       "      <th></th>\n",
       "      <th>count</th>\n",
       "      <th>mean</th>\n",
       "      <th>std</th>\n",
       "      <th>min</th>\n",
       "      <th>25%</th>\n",
       "      <th>50%</th>\n",
       "      <th>75%</th>\n",
       "      <th>max</th>\n",
       "    </tr>\n",
       "  </thead>\n",
       "  <tbody>\n",
       "    <tr>\n",
       "      <th>City</th>\n",
       "      <td>8764.0</td>\n",
       "      <td>1.43</td>\n",
       "      <td>1.06</td>\n",
       "      <td>0.0</td>\n",
       "      <td>1.00</td>\n",
       "      <td>1.00</td>\n",
       "      <td>2.00</td>\n",
       "      <td>3.0</td>\n",
       "    </tr>\n",
       "    <tr>\n",
       "      <th>Bedroom</th>\n",
       "      <td>8764.0</td>\n",
       "      <td>2.74</td>\n",
       "      <td>1.37</td>\n",
       "      <td>1.0</td>\n",
       "      <td>2.00</td>\n",
       "      <td>3.00</td>\n",
       "      <td>3.00</td>\n",
       "      <td>10.0</td>\n",
       "    </tr>\n",
       "    <tr>\n",
       "      <th>Region</th>\n",
       "      <td>8764.0</td>\n",
       "      <td>1247.15</td>\n",
       "      <td>692.27</td>\n",
       "      <td>0.0</td>\n",
       "      <td>666.75</td>\n",
       "      <td>1262.00</td>\n",
       "      <td>1808.25</td>\n",
       "      <td>2482.0</td>\n",
       "    </tr>\n",
       "    <tr>\n",
       "      <th>Price</th>\n",
       "      <td>8764.0</td>\n",
       "      <td>305.43</td>\n",
       "      <td>673.81</td>\n",
       "      <td>100.0</td>\n",
       "      <td>188.00</td>\n",
       "      <td>245.23</td>\n",
       "      <td>250.00</td>\n",
       "      <td>45000.0</td>\n",
       "    </tr>\n",
       "    <tr>\n",
       "      <th>Rate per Sqft</th>\n",
       "      <td>8764.0</td>\n",
       "      <td>30855.82</td>\n",
       "      <td>113617.38</td>\n",
       "      <td>112.5</td>\n",
       "      <td>14915.51</td>\n",
       "      <td>24444.44</td>\n",
       "      <td>35032.60</td>\n",
       "      <td>10000000.0</td>\n",
       "    </tr>\n",
       "    <tr>\n",
       "      <th>Carpet Area</th>\n",
       "      <td>8764.0</td>\n",
       "      <td>1391.94</td>\n",
       "      <td>4652.26</td>\n",
       "      <td>1.0</td>\n",
       "      <td>700.00</td>\n",
       "      <td>1049.50</td>\n",
       "      <td>1500.25</td>\n",
       "      <td>400000.0</td>\n",
       "    </tr>\n",
       "    <tr>\n",
       "      <th>Transaction Type</th>\n",
       "      <td>8764.0</td>\n",
       "      <td>1.60</td>\n",
       "      <td>0.80</td>\n",
       "      <td>0.0</td>\n",
       "      <td>2.00</td>\n",
       "      <td>2.00</td>\n",
       "      <td>2.00</td>\n",
       "      <td>2.0</td>\n",
       "    </tr>\n",
       "  </tbody>\n",
       "</table>\n",
       "</div>"
      ],
      "text/plain": [
       "                   count      mean        std    min       25%       50%  \\\n",
       "City              8764.0      1.43       1.06    0.0      1.00      1.00   \n",
       "Bedroom           8764.0      2.74       1.37    1.0      2.00      3.00   \n",
       "Region            8764.0   1247.15     692.27    0.0    666.75   1262.00   \n",
       "Price             8764.0    305.43     673.81  100.0    188.00    245.23   \n",
       "Rate per Sqft     8764.0  30855.82  113617.38  112.5  14915.51  24444.44   \n",
       "Carpet Area       8764.0   1391.94    4652.26    1.0    700.00   1049.50   \n",
       "Transaction Type  8764.0      1.60       0.80    0.0      2.00      2.00   \n",
       "\n",
       "                       75%         max  \n",
       "City                  2.00         3.0  \n",
       "Bedroom               3.00        10.0  \n",
       "Region             1808.25      2482.0  \n",
       "Price               250.00     45000.0  \n",
       "Rate per Sqft     35032.60  10000000.0  \n",
       "Carpet Area        1500.25    400000.0  \n",
       "Transaction Type      2.00         2.0  "
      ]
     },
     "execution_count": 9,
     "metadata": {},
     "output_type": "execute_result"
    }
   ],
   "source": [
    "data.describe().round(2).T"
   ]
  },
  {
   "cell_type": "code",
   "execution_count": 91,
   "metadata": {},
   "outputs": [
    {
     "data": {
      "text/html": [
       "<div>\n",
       "<style scoped>\n",
       "    .dataframe tbody tr th:only-of-type {\n",
       "        vertical-align: middle;\n",
       "    }\n",
       "\n",
       "    .dataframe tbody tr th {\n",
       "        vertical-align: top;\n",
       "    }\n",
       "\n",
       "    .dataframe thead th {\n",
       "        text-align: right;\n",
       "    }\n",
       "</style>\n",
       "<table border=\"1\" class=\"dataframe\">\n",
       "  <thead>\n",
       "    <tr style=\"text-align: right;\">\n",
       "      <th></th>\n",
       "      <th>City</th>\n",
       "      <th>Bedroom</th>\n",
       "      <th>Region</th>\n",
       "      <th>Price</th>\n",
       "      <th>Rate per Sqft</th>\n",
       "      <th>Carpet Area</th>\n",
       "      <th>Transaction Type</th>\n",
       "    </tr>\n",
       "  </thead>\n",
       "  <tbody>\n",
       "    <tr>\n",
       "      <th>0</th>\n",
       "      <td>2</td>\n",
       "      <td>3.0</td>\n",
       "      <td>1725</td>\n",
       "      <td>355.00</td>\n",
       "      <td>41375.29</td>\n",
       "      <td>858.000000</td>\n",
       "      <td>0</td>\n",
       "    </tr>\n",
       "    <tr>\n",
       "      <th>1</th>\n",
       "      <td>2</td>\n",
       "      <td>1.0</td>\n",
       "      <td>1334</td>\n",
       "      <td>245.23</td>\n",
       "      <td>75922.03</td>\n",
       "      <td>323.000000</td>\n",
       "      <td>0</td>\n",
       "    </tr>\n",
       "    <tr>\n",
       "      <th>2</th>\n",
       "      <td>2</td>\n",
       "      <td>2.0</td>\n",
       "      <td>122</td>\n",
       "      <td>253.00</td>\n",
       "      <td>39531.25</td>\n",
       "      <td>640.000000</td>\n",
       "      <td>0</td>\n",
       "    </tr>\n",
       "    <tr>\n",
       "      <th>3</th>\n",
       "      <td>2</td>\n",
       "      <td>2.0</td>\n",
       "      <td>1435</td>\n",
       "      <td>258.00</td>\n",
       "      <td>28603.10</td>\n",
       "      <td>902.000000</td>\n",
       "      <td>0</td>\n",
       "    </tr>\n",
       "    <tr>\n",
       "      <th>4</th>\n",
       "      <td>2</td>\n",
       "      <td>2.0</td>\n",
       "      <td>1523</td>\n",
       "      <td>111.00</td>\n",
       "      <td>19137.93</td>\n",
       "      <td>580.000000</td>\n",
       "      <td>0</td>\n",
       "    </tr>\n",
       "    <tr>\n",
       "      <th>...</th>\n",
       "      <td>...</td>\n",
       "      <td>...</td>\n",
       "      <td>...</td>\n",
       "      <td>...</td>\n",
       "      <td>...</td>\n",
       "      <td>...</td>\n",
       "      <td>...</td>\n",
       "    </tr>\n",
       "    <tr>\n",
       "      <th>8759</th>\n",
       "      <td>1</td>\n",
       "      <td>2.0</td>\n",
       "      <td>234</td>\n",
       "      <td>245.23</td>\n",
       "      <td>28681.66</td>\n",
       "      <td>855.000000</td>\n",
       "      <td>2</td>\n",
       "    </tr>\n",
       "    <tr>\n",
       "      <th>8760</th>\n",
       "      <td>1</td>\n",
       "      <td>2.0</td>\n",
       "      <td>306</td>\n",
       "      <td>245.23</td>\n",
       "      <td>18728.02</td>\n",
       "      <td>1309.418791</td>\n",
       "      <td>2</td>\n",
       "    </tr>\n",
       "    <tr>\n",
       "      <th>8761</th>\n",
       "      <td>1</td>\n",
       "      <td>2.0</td>\n",
       "      <td>303</td>\n",
       "      <td>245.23</td>\n",
       "      <td>28850.37</td>\n",
       "      <td>850.000000</td>\n",
       "      <td>2</td>\n",
       "    </tr>\n",
       "    <tr>\n",
       "      <th>8762</th>\n",
       "      <td>1</td>\n",
       "      <td>2.0</td>\n",
       "      <td>296</td>\n",
       "      <td>245.23</td>\n",
       "      <td>22811.92</td>\n",
       "      <td>1075.000000</td>\n",
       "      <td>2</td>\n",
       "    </tr>\n",
       "    <tr>\n",
       "      <th>8763</th>\n",
       "      <td>1</td>\n",
       "      <td>4.0</td>\n",
       "      <td>654</td>\n",
       "      <td>130.00</td>\n",
       "      <td>6190.48</td>\n",
       "      <td>2100.000000</td>\n",
       "      <td>2</td>\n",
       "    </tr>\n",
       "  </tbody>\n",
       "</table>\n",
       "<p>8764 rows × 7 columns</p>\n",
       "</div>"
      ],
      "text/plain": [
       "      City  Bedroom  Region   Price  Rate per Sqft  Carpet Area  \\\n",
       "0        2      3.0    1725  355.00       41375.29   858.000000   \n",
       "1        2      1.0    1334  245.23       75922.03   323.000000   \n",
       "2        2      2.0     122  253.00       39531.25   640.000000   \n",
       "3        2      2.0    1435  258.00       28603.10   902.000000   \n",
       "4        2      2.0    1523  111.00       19137.93   580.000000   \n",
       "...    ...      ...     ...     ...            ...          ...   \n",
       "8759     1      2.0     234  245.23       28681.66   855.000000   \n",
       "8760     1      2.0     306  245.23       18728.02  1309.418791   \n",
       "8761     1      2.0     303  245.23       28850.37   850.000000   \n",
       "8762     1      2.0     296  245.23       22811.92  1075.000000   \n",
       "8763     1      4.0     654  130.00        6190.48  2100.000000   \n",
       "\n",
       "      Transaction Type  \n",
       "0                    0  \n",
       "1                    0  \n",
       "2                    0  \n",
       "3                    0  \n",
       "4                    0  \n",
       "...                ...  \n",
       "8759                 2  \n",
       "8760                 2  \n",
       "8761                 2  \n",
       "8762                 2  \n",
       "8763                 2  \n",
       "\n",
       "[8764 rows x 7 columns]"
      ]
     },
     "execution_count": 91,
     "metadata": {},
     "output_type": "execute_result"
    }
   ],
   "source": [
    "data"
   ]
  },
  {
   "cell_type": "code",
   "execution_count": 10,
   "metadata": {},
   "outputs": [
    {
     "name": "stdout",
     "output_type": "stream",
     "text": [
      "<class 'pandas.core.frame.DataFrame'>\n",
      "RangeIndex: 8764 entries, 0 to 8763\n",
      "Data columns (total 7 columns):\n",
      " #   Column            Non-Null Count  Dtype  \n",
      "---  ------            --------------  -----  \n",
      " 0   City              8764 non-null   int64  \n",
      " 1   Bedroom           8764 non-null   float64\n",
      " 2   Region            8764 non-null   int64  \n",
      " 3   Price             8764 non-null   float64\n",
      " 4   Rate per Sqft     8764 non-null   float64\n",
      " 5   Carpet Area       8764 non-null   float64\n",
      " 6   Transaction Type  8764 non-null   int64  \n",
      "dtypes: float64(4), int64(3)\n",
      "memory usage: 479.4 KB\n"
     ]
    }
   ],
   "source": [
    "data.info()"
   ]
  },
  {
   "cell_type": "code",
   "execution_count": 11,
   "metadata": {},
   "outputs": [
    {
     "name": "stdout",
     "output_type": "stream",
     "text": [
      "City Min Value :  0 Max Value :  3\n",
      "Bedroom Min Value :  1.0 Max Value :  10.0\n",
      "Region Min Value :  0 Max Value :  2482\n",
      "Price Min Value :  100.0 Max Value :  45000.0\n",
      "Rate per Sqft Min Value :  112.5 Max Value :  10000000.0\n",
      "Carpet Area Min Value :  1.0 Max Value :  400000.0\n",
      "Transaction Type Min Value :  0 Max Value :  2\n"
     ]
    }
   ],
   "source": [
    "for i in data.columns:\n",
    "    print(i, \"Min Value : \", data[i].min(), \"Max Value : \", data[i].max())"
   ]
  },
  {
   "cell_type": "code",
   "execution_count": 13,
   "metadata": {},
   "outputs": [
    {
     "name": "stdout",
     "output_type": "stream",
     "text": [
      "(8764, 7)\n",
      "DataFrame shape after dropping rows: (8758, 7)\n"
     ]
    }
   ],
   "source": [
    "data1 = data.copy()  # Make a copy of the original DataFrame\n",
    "print(data.shape)\n",
    "data1 = data1[data1['Price'] <= 7500.0]\n",
    "df = df[df['Price'] <= 7500.0]\n",
    "\n",
    "# Display the shape of the modified DataFrame\n",
    "df.rename(columns={\n",
    "    'City': 'City',\n",
    "    'Bedroom': 'Bedroom',\n",
    "    'Region': 'Region',\n",
    "    'Price': 'Price',\n",
    "    'Rate per Sqft': 'RateperSqft',  \n",
    "    'Carpet Area': 'CarpetArea',  \n",
    "    'Transaction Type': 'TransactionType'  \n",
    "}, inplace=True)\n",
    "df['CarpetArea'] = df['CarpetArea'].round(2)\n",
    "print(\"DataFrame shape after dropping rows:\", data1.shape)\n",
    "df.to_csv('data.csv', index=False)\n"
   ]
  },
  {
   "cell_type": "code",
   "execution_count": 14,
   "metadata": {},
   "outputs": [
    {
     "name": "stdout",
     "output_type": "stream",
     "text": [
      "City Min Value :  0 Max Value :  3\n",
      "Bedroom Min Value :  1.0 Max Value :  10.0\n",
      "Region Min Value :  0 Max Value :  2482\n",
      "Price Min Value :  100.0 Max Value :  7500.0\n",
      "Rate per Sqft Min Value :  112.5 Max Value :  10000000.0\n",
      "Carpet Area Min Value :  1.0 Max Value :  400000.0\n",
      "Transaction Type Min Value :  0 Max Value :  2\n"
     ]
    }
   ],
   "source": [
    "for i in data1.columns:\n",
    "    print(i, \"Min Value : \", data1[i].min(), \"Max Value : \", data1[i].max())"
   ]
  },
  {
   "cell_type": "code",
   "execution_count": 15,
   "metadata": {},
   "outputs": [
    {
     "data": {
      "text/html": [
       "<div>\n",
       "<style scoped>\n",
       "    .dataframe tbody tr th:only-of-type {\n",
       "        vertical-align: middle;\n",
       "    }\n",
       "\n",
       "    .dataframe tbody tr th {\n",
       "        vertical-align: top;\n",
       "    }\n",
       "\n",
       "    .dataframe thead th {\n",
       "        text-align: right;\n",
       "    }\n",
       "</style>\n",
       "<table border=\"1\" class=\"dataframe\">\n",
       "  <thead>\n",
       "    <tr style=\"text-align: right;\">\n",
       "      <th></th>\n",
       "      <th>City</th>\n",
       "      <th>Bedroom</th>\n",
       "      <th>Region</th>\n",
       "      <th>Price</th>\n",
       "      <th>Rate per Sqft</th>\n",
       "      <th>Carpet Area</th>\n",
       "      <th>Transaction Type</th>\n",
       "    </tr>\n",
       "  </thead>\n",
       "  <tbody>\n",
       "    <tr>\n",
       "      <th>0</th>\n",
       "      <td>2</td>\n",
       "      <td>3.0</td>\n",
       "      <td>1725</td>\n",
       "      <td>355.00</td>\n",
       "      <td>41375.29</td>\n",
       "      <td>858.0</td>\n",
       "      <td>0</td>\n",
       "    </tr>\n",
       "    <tr>\n",
       "      <th>1</th>\n",
       "      <td>2</td>\n",
       "      <td>1.0</td>\n",
       "      <td>1334</td>\n",
       "      <td>245.23</td>\n",
       "      <td>75922.03</td>\n",
       "      <td>323.0</td>\n",
       "      <td>0</td>\n",
       "    </tr>\n",
       "    <tr>\n",
       "      <th>2</th>\n",
       "      <td>2</td>\n",
       "      <td>2.0</td>\n",
       "      <td>122</td>\n",
       "      <td>253.00</td>\n",
       "      <td>39531.25</td>\n",
       "      <td>640.0</td>\n",
       "      <td>0</td>\n",
       "    </tr>\n",
       "    <tr>\n",
       "      <th>3</th>\n",
       "      <td>2</td>\n",
       "      <td>2.0</td>\n",
       "      <td>1435</td>\n",
       "      <td>258.00</td>\n",
       "      <td>28603.10</td>\n",
       "      <td>902.0</td>\n",
       "      <td>0</td>\n",
       "    </tr>\n",
       "    <tr>\n",
       "      <th>4</th>\n",
       "      <td>2</td>\n",
       "      <td>2.0</td>\n",
       "      <td>1523</td>\n",
       "      <td>111.00</td>\n",
       "      <td>19137.93</td>\n",
       "      <td>580.0</td>\n",
       "      <td>0</td>\n",
       "    </tr>\n",
       "  </tbody>\n",
       "</table>\n",
       "</div>"
      ],
      "text/plain": [
       "   City  Bedroom  Region   Price  Rate per Sqft  Carpet Area  Transaction Type\n",
       "0     2      3.0    1725  355.00       41375.29        858.0                 0\n",
       "1     2      1.0    1334  245.23       75922.03        323.0                 0\n",
       "2     2      2.0     122  253.00       39531.25        640.0                 0\n",
       "3     2      2.0    1435  258.00       28603.10        902.0                 0\n",
       "4     2      2.0    1523  111.00       19137.93        580.0                 0"
      ]
     },
     "execution_count": 15,
     "metadata": {},
     "output_type": "execute_result"
    }
   ],
   "source": [
    "data1.head()"
   ]
  },
  {
   "cell_type": "code",
   "execution_count": 16,
   "metadata": {},
   "outputs": [
    {
     "data": {
      "image/png": "[encoded data removed]",
      "text/plain": [
       "<Figure size 1200x800 with 2 Axes>"
      ]
     },
     "metadata": {},
     "output_type": "display_data"
    }
   ],
   "source": [
    "import matplotlib.pyplot as plt\n",
    "import seaborn as sns\n",
    "\n",
    "# Correlation matrix\n",
    "corr_matrix = data1.corr()\n",
    "\n",
    "# Visualize the correlation matrix\n",
    "plt.figure(figsize=(12, 8))\n",
    "sns.heatmap(corr_matrix, annot=True, fmt=\".2f\", cmap='coolwarm', square=True)\n",
    "plt.title(\"Correlation Matrix\")\n",
    "plt.show()\n",
    "\n"
   ]
  },
  {
   "cell_type": "code",
   "execution_count": 17,
   "metadata": {},
   "outputs": [
    {
     "data": {
      "text/html": [
       "<div>\n",
       "<style scoped>\n",
       "    .dataframe tbody tr th:only-of-type {\n",
       "        vertical-align: middle;\n",
       "    }\n",
       "\n",
       "    .dataframe tbody tr th {\n",
       "        vertical-align: top;\n",
       "    }\n",
       "\n",
       "    .dataframe thead th {\n",
       "        text-align: right;\n",
       "    }\n",
       "</style>\n",
       "<table border=\"1\" class=\"dataframe\">\n",
       "  <thead>\n",
       "    <tr style=\"text-align: right;\">\n",
       "      <th></th>\n",
       "      <th>City</th>\n",
       "      <th>Bedroom</th>\n",
       "      <th>Region</th>\n",
       "      <th>Rate per Sqft</th>\n",
       "      <th>Carpet Area</th>\n",
       "      <th>Transaction Type</th>\n",
       "    </tr>\n",
       "  </thead>\n",
       "  <tbody>\n",
       "    <tr>\n",
       "      <th>0</th>\n",
       "      <td>2</td>\n",
       "      <td>3.0</td>\n",
       "      <td>1725</td>\n",
       "      <td>41375.29</td>\n",
       "      <td>858.0</td>\n",
       "      <td>0</td>\n",
       "    </tr>\n",
       "    <tr>\n",
       "      <th>1</th>\n",
       "      <td>2</td>\n",
       "      <td>1.0</td>\n",
       "      <td>1334</td>\n",
       "      <td>75922.03</td>\n",
       "      <td>323.0</td>\n",
       "      <td>0</td>\n",
       "    </tr>\n",
       "    <tr>\n",
       "      <th>2</th>\n",
       "      <td>2</td>\n",
       "      <td>2.0</td>\n",
       "      <td>122</td>\n",
       "      <td>39531.25</td>\n",
       "      <td>640.0</td>\n",
       "      <td>0</td>\n",
       "    </tr>\n",
       "    <tr>\n",
       "      <th>3</th>\n",
       "      <td>2</td>\n",
       "      <td>2.0</td>\n",
       "      <td>1435</td>\n",
       "      <td>28603.10</td>\n",
       "      <td>902.0</td>\n",
       "      <td>0</td>\n",
       "    </tr>\n",
       "    <tr>\n",
       "      <th>4</th>\n",
       "      <td>2</td>\n",
       "      <td>2.0</td>\n",
       "      <td>1523</td>\n",
       "      <td>19137.93</td>\n",
       "      <td>580.0</td>\n",
       "      <td>0</td>\n",
       "    </tr>\n",
       "  </tbody>\n",
       "</table>\n",
       "</div>"
      ],
      "text/plain": [
       "   City  Bedroom  Region  Rate per Sqft  Carpet Area  Transaction Type\n",
       "0     2      3.0    1725       41375.29        858.0                 0\n",
       "1     2      1.0    1334       75922.03        323.0                 0\n",
       "2     2      2.0     122       39531.25        640.0                 0\n",
       "3     2      2.0    1435       28603.10        902.0                 0\n",
       "4     2      2.0    1523       19137.93        580.0                 0"
      ]
     },
     "execution_count": 17,
     "metadata": {},
     "output_type": "execute_result"
    }
   ],
   "source": [
    "X =  data1.drop('Price', axis = 1)\n",
    "y =  data1['Price']\n",
    "X.head()"
   ]
  },
  {
   "cell_type": "code",
   "execution_count": 18,
   "metadata": {},
   "outputs": [],
   "source": [
    "X_train, X_test, y_train, y_test = train_test_split(X, y, test_size= 0.20, random_state = 12)"
   ]
  },
  {
   "cell_type": "code",
   "execution_count": 19,
   "metadata": {},
   "outputs": [
    {
     "name": "stdout",
     "output_type": "stream",
     "text": [
      "(7006, 6) (1752, 6)\n"
     ]
    }
   ],
   "source": [
    "print(X_train.shape, X_test.shape)"
   ]
  },
  {
   "cell_type": "code",
   "execution_count": 20,
   "metadata": {},
   "outputs": [
    {
     "name": "stdout",
     "output_type": "stream",
     "text": [
      "Training Accuracy =  0.18287713315630783\n",
      "Test Accuracy     =  -3.1333339553134696\n"
     ]
    }
   ],
   "source": [
    "from sklearn.linear_model import LinearRegression\n",
    "\n",
    "linear = LinearRegression()\n",
    "linear.fit(X_train, y_train)\n",
    "\n",
    "print(\"Training Accuracy = \", linear.score(X_train, y_train))\n",
    "print(\"Test Accuracy     = \", linear.score(X_test, y_test))"
   ]
  },
  {
   "cell_type": "code",
   "execution_count": 21,
   "metadata": {},
   "outputs": [
    {
     "name": "stdout",
     "output_type": "stream",
     "text": [
      "Training Accuracy =  1.0\n",
      "Test Accuracy     =  0.8669071458470963\n"
     ]
    }
   ],
   "source": [
    "from sklearn.tree import DecisionTreeRegressor\n",
    "\n",
    "dt = DecisionTreeRegressor(min_samples_split=2)\n",
    "dt.fit(X_train, y_train)\n",
    "\n",
    "print(\"Training Accuracy = \", dt.score(X_train, y_train))\n",
    "print(\"Test Accuracy     = \", dt.score(X_test, y_test))"
   ]
  },
  {
   "cell_type": "code",
   "execution_count": 22,
   "metadata": {},
   "outputs": [
    {
     "name": "stdout",
     "output_type": "stream",
     "text": [
      "Cross-Validation Scores: [0.78394482 0.8277805  0.79417497 0.8403345  0.83319332]\n",
      "Mean Cross-Validation Score: 0.8158856225117024\n"
     ]
    }
   ],
   "source": [
    "from sklearn.model_selection import cross_val_score\n",
    "\n",
    "dt = DecisionTreeRegressor(min_samples_split=10, max_depth=5)\n",
    "cross_val_scores = cross_val_score(dt, X_train, y_train, cv=5)\n",
    "print(\"Cross-Validation Scores:\", cross_val_scores)\n",
    "print(\"Mean Cross-Validation Score:\", np.mean(cross_val_scores))\n"
   ]
  },
  {
   "cell_type": "code",
   "execution_count": 23,
   "metadata": {},
   "outputs": [
    {
     "name": "stdout",
     "output_type": "stream",
     "text": [
      "Training Accuracy =  0.96474010734832\n",
      "Test Accuracy     =  0.9128456586797051\n"
     ]
    }
   ],
   "source": [
    "from sklearn.ensemble import RandomForestRegressor\n",
    "\n",
    "rf = RandomForestRegressor(n_estimators = 1000, max_depth=5, random_state = 12)\n",
    "rf.fit(X_train, y_train)\n",
    "\n",
    "print(\"Training Accuracy = \", rf.score(X_train, y_train))\n",
    "print(\"Test Accuracy     = \", rf.score(X_test, y_test))"
   ]
  },
  {
   "cell_type": "code",
   "execution_count": 26,
   "metadata": {},
   "outputs": [
    {
     "name": "stdout",
     "output_type": "stream",
     "text": [
      "Training Accuracy =  0.9979185881605502\n",
      "Test Accuracy     =  0.9804032431818275\n"
     ]
    }
   ],
   "source": [
    "from sklearn.pipeline import Pipeline\n",
    "from sklearn.preprocessing import PolynomialFeatures\n",
    "\n",
    "poly = PolynomialFeatures(degree=2)\n",
    "poly.fit_transform(X)\n",
    "\n",
    "# Define the pipeline and train model\n",
    "poly_model = Pipeline([('poly', PolynomialFeatures(degree=2)),\n",
    "                       ('rf', RandomForestRegressor(n_estimators = 1000, max_depth=5, random_state = 12))])\n",
    "poly_model.fit(X_train, y_train)\n",
    "\n",
    "# Calculate the Score\n",
    "print(\"Training Accuracy = \", poly_model.score(X_train, y_train))\n",
    "print(\"Test Accuracy     = \", poly_model.score(X_test, y_test))"
   ]
  },
  {
   "cell_type": "code",
   "execution_count": 27,
   "metadata": {},
   "outputs": [],
   "source": [
    "def evaluate(model, test_features, test_labels):\n",
    "    predictions = model.predict(test_features)\n",
    "    errors = abs(predictions - test_labels)\n",
    "    accuracy = model.score(test_features, test_labels)\n",
    "\n",
    "    print('Average Error  = {:0.4f} degrees'.format(np.mean(errors)))\n",
    "    print('Model Accuracy = {:0.4f} %'.format(accuracy))"
   ]
  },
  {
   "cell_type": "code",
   "execution_count": 28,
   "metadata": {},
   "outputs": [
    {
     "name": "stdout",
     "output_type": "stream",
     "text": [
      "Average Error  = 3.5581 degrees\n",
      "Model Accuracy = 0.9979 %\n"
     ]
    }
   ],
   "source": [
    "evaluate(poly_model, X_train, y_train)"
   ]
  },
  {
   "cell_type": "code",
   "execution_count": 29,
   "metadata": {},
   "outputs": [
    {
     "name": "stdout",
     "output_type": "stream",
     "text": [
      "Average Error  = 4.1058 degrees\n",
      "Model Accuracy = 0.9804 %\n"
     ]
    }
   ],
   "source": [
    "evaluate(poly_model, X_test, y_test)"
   ]
  },
  {
   "cell_type": "code",
   "execution_count": 30,
   "metadata": {},
   "outputs": [],
   "source": [
    "pred = poly_model.predict(X_test)"
   ]
  },
  {
   "cell_type": "code",
   "execution_count": 31,
   "metadata": {},
   "outputs": [
    {
     "data": {
      "image/png": "[encoded data removed]",
      "text/plain": [
       "<Figure size 800x700 with 1 Axes>"
      ]
     },
     "metadata": {},
     "output_type": "display_data"
    }
   ],
   "source": [
    "fig = plt.figure(figsize=(8, 7))\n",
    "\n",
    "# Use keyword arguments for the scatterplot\n",
    "sns.scatterplot(x=y_test, y=pred)\n",
    "fig.suptitle('Prediction using Polynomial', fontsize=18, fontweight='bold')\n",
    "plt.xlabel(\"Actual\")\n",
    "plt.ylabel(\"Prediction\")\n",
    "\n",
    "# Update parameters and adjust layout\n",
    "# pylab.rcParams.update(rcParams)\n",
    "fig.tight_layout()\n",
    "fig.subplots_adjust(top=0.92)\n",
    "plt.show()"
   ]
  },
  {
   "cell_type": "code",
   "execution_count": 32,
   "metadata": {},
   "outputs": [],
   "source": [
    "from pickle import dump"
   ]
  },
  {
   "cell_type": "code",
   "execution_count": 33,
   "metadata": {},
   "outputs": [],
   "source": [
    "dump(poly_model,open('regression_model.pkl','wb'))"
   ]
  },
  {
   "cell_type": "code",
   "execution_count": null,
   "metadata": {},
   "outputs": [],
   "source": []
  }
 ],
 "metadata": {
  "kernelspec": {
   "display_name": ".venv",
   "language": "python",
   "name": "python3"
  },
  "language_info": {
   "codemirror_mode": {
    "name": "ipython",
    "version": 3
   },
   "file_extension": ".py",
   "mimetype": "text/x-python",
   "name": "python",
   "nbconvert_exporter": "python",
   "pygments_lexer": "ipython3",
   "version": "3.10.11"
  }
 },
 "nbformat": 4,
 "nbformat_minor": 2
}
